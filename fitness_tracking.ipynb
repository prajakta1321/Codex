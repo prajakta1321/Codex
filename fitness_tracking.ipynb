{
  "nbformat": 4,
  "nbformat_minor": 0,
  "metadata": {
    "colab": {
      "provenance": []
    },
    "kernelspec": {
      "name": "python3",
      "display_name": "Python 3"
    },
    "language_info": {
      "name": "python"
    }
  },
  "cells": [
    {
      "cell_type": "markdown",
      "source": [
        "Activity recognition for fitness tracking\n",
        "\n",
        "You're building a system that performs activity recognition for fitness tracking. You might have access to the speed at which a person is walking and attempt to infer their activity based on that speed using a conditional."
      ],
      "metadata": {
        "id": "M7q89DvBFkXN"
      }
    },
    {
      "cell_type": "code",
      "source": [
        "# using python\n",
        "speed = int(input(\"Enter your speed:\"))\n",
        "\n",
        "hand_movement = str(input(\"enter the movement of hand as YES , NO or STABLE:\"))\n",
        "\n",
        "print(\"For your entered speed\", speed , \"you have the given word :\")\n",
        "\n",
        "if speed < 10 and speed > 2:\n",
        "  print(\"slow walking\")\n",
        "else:\n",
        "  if speed > 10 and speed < 20:\n",
        "      print(\"normal walking\")\n",
        "  else:\n",
        "    if speed > 20 and speed < 25:\n",
        "      print(\"fast walking\")\n",
        "    else:\n",
        "      if speed > 25 and speed < 30 and hand_movement == \"YES\":\n",
        "        print(\"jogging\")\n",
        "      else:\n",
        "        if speed > 30 and speed < 35 and hand_movement == \"YES\":\n",
        "          print(\"slow running\")\n",
        "        else:\n",
        "          if speed > 35 and speed < 40 and hand_movement == \"YES\":\n",
        "            print(\"running\")\n",
        "          else:\n",
        "            if speed > 40 and speed < 45 and hand_movement == \"STABLE\":\n",
        "              print(\"cycling\")\n",
        "            else:\n",
        "              if speed > 45 and speed < 50 and hand_movement == \"STABLE\":\n",
        "                print(\"biking\")\n",
        "              else:\n",
        "                if speed > 50 and hand_movement == \"STABLE\":\n",
        "                  print(\"in car\")\n",
        "                else:\n",
        "                  print(\"invalid process. please provide a valid input !\")\n",
        "                  if hand_movement ==\"no\":\n",
        "                    print(\"there is no hand movement involved in this action\")\n",
        "\n",
        "print(\" now lets calculate the start time and end time of your exercise\")\n",
        "start_time = float(input(\"enter the start time in values between 0 and 9:\"))\n",
        "end_time = float(input(\"enter the end time:\"))\n",
        "x = start_time\n",
        "y = end_time\n",
        "\n",
        "duration = (y-x)\n",
        "print(duration)"
      ],
      "metadata": {
        "colab": {
          "base_uri": "https://localhost:8080/"
        },
        "id": "lZ_7stovFk0d",
        "outputId": "e743d629-0169-48f5-b949-b71eb9cee638"
      },
      "execution_count": 22,
      "outputs": [
        {
          "name": "stdout",
          "output_type": "stream",
          "text": [
            "Enter your speed:42\n",
            "enter the movement of hand as YES , NO or STABLE:stable\n",
            "For your entered speed 42 you have the given word :\n",
            "invalid process. please provide a valid input !\n",
            " now lets calculate the start time and end time of your exercise\n",
            "enter the start time in values between 0 and 9:7\n",
            "enter the end time 0 and 9 :11\n"
          ]
        }
      ]
    }
  ]
}